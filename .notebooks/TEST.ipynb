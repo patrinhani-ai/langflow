{
 "cells": [
  {
   "cell_type": "code",
   "execution_count": 1,
   "id": "eb84dacc",
   "metadata": {},
   "outputs": [
    {
     "data": {
      "text/plain": [
       "True"
      ]
     },
     "execution_count": 1,
     "metadata": {},
     "output_type": "execute_result"
    }
   ],
   "source": [
    "from dotenv import load_dotenv\n",
    "load_dotenv()"
   ]
  },
  {
   "cell_type": "code",
   "execution_count": 2,
   "id": "8717f09d",
   "metadata": {},
   "outputs": [
    {
     "name": "stdout",
     "output_type": "stream",
     "text": [
      "Langfuse SDK example\n",
      "Langfuse HOST: http://vpatri.local:8281\n",
      "Answer user's questions based on the context below:\n",
      "\n",
      "---\n",
      "\n",
      "{context}\n",
      "\n",
      "---\n",
      "\n",
      "Question:\n",
      "What is this document is about?\n"
     ]
    }
   ],
   "source": [
    "import os\n",
    "from langfuse import Langfuse\n",
    "\n",
    "print(\"Langfuse SDK example\")\n",
    "print(\"Langfuse HOST:\", os.getenv(\"LANGFUSE_HOST\"))\n",
    "\n",
    "# Initialize Langfuse client\n",
    "langfuse = Langfuse(\n",
    "  host=os.getenv(\"LANGFUSE_HOST\"),\n",
    "  public_key=os.getenv(\"LANGFUSE_PUBLIC_KEY\"),\n",
    "  secret_key=os.getenv(\"LANGFUSE_SECRET_KEY\")\n",
    ")\n",
    "\n",
    "# Get production prompt\n",
    "langfuse_prompt = langfuse.get_prompt(\"document-qa--ask-about-document\", label=\"latest\")\n",
    "# langfuse_prompt = langfuse.get_prompt(\"greetings-how-are-you\", label=\"latest\")\n",
    "\n",
    "\n",
    "langchain_prompt = langfuse_prompt.get_langchain_prompt()\n",
    "\n",
    "system_prompt, user_prompt = None, None\n",
    "system_prompt_template = \"\"\n",
    "user_prompt_template = \"\"\n",
    "\n",
    "if (isinstance(langchain_prompt, list | tuple) and len(langchain_prompt) > 1):\n",
    "    system_prompt, user_prompt = langchain_prompt\n",
    "    system_prompt_template = system_prompt[1]\n",
    "    user_prompt_template = user_prompt[1]\n",
    "elif isinstance(langchain_prompt, str):\n",
    "    user_prompt_template = langchain_prompt\n",
    "\n",
    "print(system_prompt_template)\n",
    "print(user_prompt_template)\n"
   ]
  }
 ],
 "metadata": {
  "kernelspec": {
   "display_name": "langflow",
   "language": "python",
   "name": "python3"
  },
  "language_info": {
   "codemirror_mode": {
    "name": "ipython",
    "version": 3
   },
   "file_extension": ".py",
   "mimetype": "text/x-python",
   "name": "python",
   "nbconvert_exporter": "python",
   "pygments_lexer": "ipython3",
   "version": "3.11.11"
  }
 },
 "nbformat": 4,
 "nbformat_minor": 5
}
